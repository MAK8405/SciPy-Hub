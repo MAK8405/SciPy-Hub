{
 "cells": [
  {
   "cell_type": "markdown",
   "id": "05992e71",
   "metadata": {},
   "source": [
    "# SciPy"
   ]
  },
  {
   "cell_type": "markdown",
   "id": "4d85f07d",
   "metadata": {},
   "source": [
    "## SciPy Getting Started"
   ]
  },
  {
   "cell_type": "code",
   "execution_count": null,
   "id": "02e98be8",
   "metadata": {},
   "outputs": [],
   "source": [
    "from scipy import constants"
   ]
  }
 ],
 "metadata": {
  "kernelspec": {
   "display_name": "Python 3",
   "language": "python",
   "name": "python3"
  },
  "language_info": {
   "codemirror_mode": {
    "name": "ipython",
    "version": 3
   },
   "file_extension": ".py",
   "mimetype": "text/x-python",
   "name": "python",
   "nbconvert_exporter": "python",
   "pygments_lexer": "ipython3",
   "version": "3.10.0"
  }
 },
 "nbformat": 4,
 "nbformat_minor": 5
}
